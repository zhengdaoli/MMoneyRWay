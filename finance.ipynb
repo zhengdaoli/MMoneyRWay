{
 "cells": [
  {
   "cell_type": "code",
   "execution_count": 3,
   "metadata": {},
   "outputs": [
    {
     "data": {
      "text/plain": [
       "yfinance.Ticker object <AAPL>"
      ]
     },
     "execution_count": 3,
     "metadata": {},
     "output_type": "execute_result"
    }
   ],
   "source": [
    "import yfinance as yf  \n",
    "aapl= yf.Ticker(\"aapl\")"
   ]
  },
  {
   "cell_type": "code",
   "execution_count": 7,
   "metadata": {},
   "outputs": [
    {
     "data": {
      "text/plain": [
       "<bound method NDFrame.head of                                  Open        High         Low       Close  \\\n",
       "Date                                                                        \n",
       "2023-09-05 00:00:00-04:00  188.279999  189.979996  187.610001  189.699997   \n",
       "2023-09-06 00:00:00-04:00  188.399994  188.850006  181.470001  182.910004   \n",
       "2023-09-07 00:00:00-04:00  175.179993  178.210007  173.539993  177.559998   \n",
       "2023-09-08 00:00:00-04:00  178.350006  180.240005  177.789993  178.179993   \n",
       "\n",
       "                              Volume  Dividends  Stock Splits  \n",
       "Date                                                           \n",
       "2023-09-05 00:00:00-04:00   45280000        0.0           0.0  \n",
       "2023-09-06 00:00:00-04:00   81755800        0.0           0.0  \n",
       "2023-09-07 00:00:00-04:00  112488800        0.0           0.0  \n",
       "2023-09-08 00:00:00-04:00   65551300        0.0           0.0  >"
      ]
     },
     "execution_count": 7,
     "metadata": {},
     "output_type": "execute_result"
    }
   ],
   "source": [
    "aapl_historical = aapl.history(start=\"2023-09-05\", end=\"2023-09-11\", interval=\"1d\")\n",
    "aapl_historical.head"
   ]
  },
  {
   "cell_type": "code",
   "execution_count": null,
   "metadata": {},
   "outputs": [],
   "source": []
  }
 ],
 "metadata": {
  "kernelspec": {
   "display_name": "Python 3",
   "language": "python",
   "name": "python3"
  },
  "language_info": {
   "codemirror_mode": {
    "name": "ipython",
    "version": 3
   },
   "file_extension": ".py",
   "mimetype": "text/x-python",
   "name": "python",
   "nbconvert_exporter": "python",
   "pygments_lexer": "ipython3",
   "version": "3.9.13"
  },
  "orig_nbformat": 4
 },
 "nbformat": 4,
 "nbformat_minor": 2
}
